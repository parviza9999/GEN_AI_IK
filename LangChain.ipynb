{
  "nbformat": 4,
  "nbformat_minor": 0,
  "metadata": {
    "colab": {
      "provenance": [],
      "include_colab_link": true
    },
    "kernelspec": {
      "name": "python3",
      "display_name": "Python 3"
    },
    "language_info": {
      "name": "python"
    }
  },
  "cells": [
    {
      "cell_type": "markdown",
      "metadata": {
        "id": "view-in-github",
        "colab_type": "text"
      },
      "source": [
        "<a href=\"https://colab.research.google.com/github/parviza9999/GEN_AI_IK/blob/main/LangChain.ipynb\" target=\"_parent\"><img src=\"https://colab.research.google.com/assets/colab-badge.svg\" alt=\"Open In Colab\"/></a>"
      ]
    },
    {
      "cell_type": "code",
      "execution_count": null,
      "metadata": {
        "collapsed": true,
        "id": "5n8AcmJ3BuPj",
        "colab": {
          "base_uri": "https://localhost:8080/",
          "height": 1000
        },
        "outputId": "7a81b8c5-c146-44cc-d2cd-f588d9083333"
      },
      "outputs": [
        {
          "output_type": "stream",
          "name": "stdout",
          "text": [
            "Requirement already satisfied: langchain in /usr/local/lib/python3.11/dist-packages (0.3.17)\n",
            "Collecting langchain-chroma\n",
            "  Downloading langchain_chroma-0.2.1-py3-none-any.whl.metadata (1.7 kB)\n",
            "Collecting langchain-openai\n",
            "  Downloading langchain_openai-0.3.4-py3-none-any.whl.metadata (2.3 kB)\n",
            "Requirement already satisfied: PyYAML>=5.3 in /usr/local/lib/python3.11/dist-packages (from langchain) (6.0.2)\n",
            "Requirement already satisfied: SQLAlchemy<3,>=1.4 in /usr/local/lib/python3.11/dist-packages (from langchain) (2.0.37)\n",
            "Requirement already satisfied: aiohttp<4.0.0,>=3.8.3 in /usr/local/lib/python3.11/dist-packages (from langchain) (3.11.11)\n",
            "Requirement already satisfied: langchain-core<0.4.0,>=0.3.33 in /usr/local/lib/python3.11/dist-packages (from langchain) (0.3.33)\n",
            "Requirement already satisfied: langchain-text-splitters<0.4.0,>=0.3.3 in /usr/local/lib/python3.11/dist-packages (from langchain) (0.3.5)\n",
            "Requirement already satisfied: langsmith<0.4,>=0.1.17 in /usr/local/lib/python3.11/dist-packages (from langchain) (0.3.5)\n",
            "Requirement already satisfied: numpy<2,>=1.22.4 in /usr/local/lib/python3.11/dist-packages (from langchain) (1.26.4)\n",
            "Requirement already satisfied: pydantic<3.0.0,>=2.7.4 in /usr/local/lib/python3.11/dist-packages (from langchain) (2.10.6)\n",
            "Requirement already satisfied: requests<3,>=2 in /usr/local/lib/python3.11/dist-packages (from langchain) (2.32.3)\n",
            "Requirement already satisfied: tenacity!=8.4.0,<10,>=8.1.0 in /usr/local/lib/python3.11/dist-packages (from langchain) (9.0.0)\n",
            "Collecting chromadb!=0.5.10,!=0.5.11,!=0.5.12,!=0.5.4,!=0.5.5,!=0.5.7,!=0.5.9,<0.7.0,>=0.4.0 (from langchain-chroma)\n",
            "  Downloading chromadb-0.6.3-py3-none-any.whl.metadata (6.8 kB)\n",
            "Collecting fastapi<1,>=0.95.2 (from langchain-chroma)\n",
            "  Downloading fastapi-0.115.8-py3-none-any.whl.metadata (27 kB)\n",
            "Collecting langchain-core<0.4.0,>=0.3.33 (from langchain)\n",
            "  Downloading langchain_core-0.3.34-py3-none-any.whl.metadata (5.9 kB)\n",
            "Requirement already satisfied: openai<2.0.0,>=1.58.1 in /usr/local/lib/python3.11/dist-packages (from langchain-openai) (1.61.1)\n",
            "Collecting tiktoken<1,>=0.7 (from langchain-openai)\n",
            "  Downloading tiktoken-0.8.0-cp311-cp311-manylinux_2_17_x86_64.manylinux2014_x86_64.whl.metadata (6.6 kB)\n",
            "Requirement already satisfied: aiohappyeyeballs>=2.3.0 in /usr/local/lib/python3.11/dist-packages (from aiohttp<4.0.0,>=3.8.3->langchain) (2.4.4)\n",
            "Requirement already satisfied: aiosignal>=1.1.2 in /usr/local/lib/python3.11/dist-packages (from aiohttp<4.0.0,>=3.8.3->langchain) (1.3.2)\n",
            "Requirement already satisfied: attrs>=17.3.0 in /usr/local/lib/python3.11/dist-packages (from aiohttp<4.0.0,>=3.8.3->langchain) (25.1.0)\n",
            "Requirement already satisfied: frozenlist>=1.1.1 in /usr/local/lib/python3.11/dist-packages (from aiohttp<4.0.0,>=3.8.3->langchain) (1.5.0)\n",
            "Requirement already satisfied: multidict<7.0,>=4.5 in /usr/local/lib/python3.11/dist-packages (from aiohttp<4.0.0,>=3.8.3->langchain) (6.1.0)\n",
            "Requirement already satisfied: propcache>=0.2.0 in /usr/local/lib/python3.11/dist-packages (from aiohttp<4.0.0,>=3.8.3->langchain) (0.2.1)\n",
            "Requirement already satisfied: yarl<2.0,>=1.17.0 in /usr/local/lib/python3.11/dist-packages (from aiohttp<4.0.0,>=3.8.3->langchain) (1.18.3)\n",
            "Collecting build>=1.0.3 (from chromadb!=0.5.10,!=0.5.11,!=0.5.12,!=0.5.4,!=0.5.5,!=0.5.7,!=0.5.9,<0.7.0,>=0.4.0->langchain-chroma)\n",
            "  Downloading build-1.2.2.post1-py3-none-any.whl.metadata (6.5 kB)\n",
            "Collecting chroma-hnswlib==0.7.6 (from chromadb!=0.5.10,!=0.5.11,!=0.5.12,!=0.5.4,!=0.5.5,!=0.5.7,!=0.5.9,<0.7.0,>=0.4.0->langchain-chroma)\n",
            "  Downloading chroma_hnswlib-0.7.6-cp311-cp311-manylinux_2_17_x86_64.manylinux2014_x86_64.whl.metadata (252 bytes)\n",
            "Collecting uvicorn>=0.18.3 (from uvicorn[standard]>=0.18.3->chromadb!=0.5.10,!=0.5.11,!=0.5.12,!=0.5.4,!=0.5.5,!=0.5.7,!=0.5.9,<0.7.0,>=0.4.0->langchain-chroma)\n",
            "  Downloading uvicorn-0.34.0-py3-none-any.whl.metadata (6.5 kB)\n",
            "Collecting posthog>=2.4.0 (from chromadb!=0.5.10,!=0.5.11,!=0.5.12,!=0.5.4,!=0.5.5,!=0.5.7,!=0.5.9,<0.7.0,>=0.4.0->langchain-chroma)\n",
            "  Downloading posthog-3.11.0-py2.py3-none-any.whl.metadata (2.9 kB)\n",
            "Requirement already satisfied: typing_extensions>=4.5.0 in /usr/local/lib/python3.11/dist-packages (from chromadb!=0.5.10,!=0.5.11,!=0.5.12,!=0.5.4,!=0.5.5,!=0.5.7,!=0.5.9,<0.7.0,>=0.4.0->langchain-chroma) (4.12.2)\n",
            "Collecting onnxruntime>=1.14.1 (from chromadb!=0.5.10,!=0.5.11,!=0.5.12,!=0.5.4,!=0.5.5,!=0.5.7,!=0.5.9,<0.7.0,>=0.4.0->langchain-chroma)\n",
            "  Downloading onnxruntime-1.20.1-cp311-cp311-manylinux_2_27_x86_64.manylinux_2_28_x86_64.whl.metadata (4.5 kB)\n",
            "Requirement already satisfied: opentelemetry-api>=1.2.0 in /usr/local/lib/python3.11/dist-packages (from chromadb!=0.5.10,!=0.5.11,!=0.5.12,!=0.5.4,!=0.5.5,!=0.5.7,!=0.5.9,<0.7.0,>=0.4.0->langchain-chroma) (1.16.0)\n",
            "Collecting opentelemetry-exporter-otlp-proto-grpc>=1.2.0 (from chromadb!=0.5.10,!=0.5.11,!=0.5.12,!=0.5.4,!=0.5.5,!=0.5.7,!=0.5.9,<0.7.0,>=0.4.0->langchain-chroma)\n",
            "  Downloading opentelemetry_exporter_otlp_proto_grpc-1.30.0-py3-none-any.whl.metadata (2.4 kB)\n",
            "Collecting opentelemetry-instrumentation-fastapi>=0.41b0 (from chromadb!=0.5.10,!=0.5.11,!=0.5.12,!=0.5.4,!=0.5.5,!=0.5.7,!=0.5.9,<0.7.0,>=0.4.0->langchain-chroma)\n",
            "  Downloading opentelemetry_instrumentation_fastapi-0.51b0-py3-none-any.whl.metadata (2.2 kB)\n",
            "Requirement already satisfied: opentelemetry-sdk>=1.2.0 in /usr/local/lib/python3.11/dist-packages (from chromadb!=0.5.10,!=0.5.11,!=0.5.12,!=0.5.4,!=0.5.5,!=0.5.7,!=0.5.9,<0.7.0,>=0.4.0->langchain-chroma) (1.16.0)\n",
            "Requirement already satisfied: tokenizers>=0.13.2 in /usr/local/lib/python3.11/dist-packages (from chromadb!=0.5.10,!=0.5.11,!=0.5.12,!=0.5.4,!=0.5.5,!=0.5.7,!=0.5.9,<0.7.0,>=0.4.0->langchain-chroma) (0.21.0)\n",
            "Collecting pypika>=0.48.9 (from chromadb!=0.5.10,!=0.5.11,!=0.5.12,!=0.5.4,!=0.5.5,!=0.5.7,!=0.5.9,<0.7.0,>=0.4.0->langchain-chroma)\n",
            "  Downloading PyPika-0.48.9.tar.gz (67 kB)\n",
            "\u001b[2K     \u001b[90m━━━━━━━━━━━━━━━━━━━━━━━━━━━━━━━━━━━━━━━━\u001b[0m \u001b[32m67.3/67.3 kB\u001b[0m \u001b[31m4.9 MB/s\u001b[0m eta \u001b[36m0:00:00\u001b[0m\n",
            "\u001b[?25h  Installing build dependencies ... \u001b[?25l\u001b[?25hdone\n",
            "  Getting requirements to build wheel ... \u001b[?25l\u001b[?25hdone\n",
            "  Preparing metadata (pyproject.toml) ... \u001b[?25l\u001b[?25hdone\n",
            "Requirement already satisfied: tqdm>=4.65.0 in /usr/local/lib/python3.11/dist-packages (from chromadb!=0.5.10,!=0.5.11,!=0.5.12,!=0.5.4,!=0.5.5,!=0.5.7,!=0.5.9,<0.7.0,>=0.4.0->langchain-chroma) (4.67.1)\n",
            "Collecting overrides>=7.3.1 (from chromadb!=0.5.10,!=0.5.11,!=0.5.12,!=0.5.4,!=0.5.5,!=0.5.7,!=0.5.9,<0.7.0,>=0.4.0->langchain-chroma)\n",
            "  Downloading overrides-7.7.0-py3-none-any.whl.metadata (5.8 kB)\n",
            "Requirement already satisfied: importlib-resources in /usr/local/lib/python3.11/dist-packages (from chromadb!=0.5.10,!=0.5.11,!=0.5.12,!=0.5.4,!=0.5.5,!=0.5.7,!=0.5.9,<0.7.0,>=0.4.0->langchain-chroma) (6.5.2)\n",
            "Requirement already satisfied: grpcio>=1.58.0 in /usr/local/lib/python3.11/dist-packages (from chromadb!=0.5.10,!=0.5.11,!=0.5.12,!=0.5.4,!=0.5.5,!=0.5.7,!=0.5.9,<0.7.0,>=0.4.0->langchain-chroma) (1.70.0)\n",
            "Collecting bcrypt>=4.0.1 (from chromadb!=0.5.10,!=0.5.11,!=0.5.12,!=0.5.4,!=0.5.5,!=0.5.7,!=0.5.9,<0.7.0,>=0.4.0->langchain-chroma)\n",
            "  Downloading bcrypt-4.2.1-cp39-abi3-manylinux_2_28_x86_64.whl.metadata (9.8 kB)\n",
            "Requirement already satisfied: typer>=0.9.0 in /usr/local/lib/python3.11/dist-packages (from chromadb!=0.5.10,!=0.5.11,!=0.5.12,!=0.5.4,!=0.5.5,!=0.5.7,!=0.5.9,<0.7.0,>=0.4.0->langchain-chroma) (0.15.1)\n",
            "Collecting kubernetes>=28.1.0 (from chromadb!=0.5.10,!=0.5.11,!=0.5.12,!=0.5.4,!=0.5.5,!=0.5.7,!=0.5.9,<0.7.0,>=0.4.0->langchain-chroma)\n",
            "  Downloading kubernetes-32.0.0-py2.py3-none-any.whl.metadata (1.5 kB)\n",
            "Collecting mmh3>=4.0.1 (from chromadb!=0.5.10,!=0.5.11,!=0.5.12,!=0.5.4,!=0.5.5,!=0.5.7,!=0.5.9,<0.7.0,>=0.4.0->langchain-chroma)\n",
            "  Downloading mmh3-5.1.0-cp311-cp311-manylinux_2_5_x86_64.manylinux1_x86_64.manylinux_2_17_x86_64.manylinux2014_x86_64.whl.metadata (16 kB)\n",
            "Requirement already satisfied: orjson>=3.9.12 in /usr/local/lib/python3.11/dist-packages (from chromadb!=0.5.10,!=0.5.11,!=0.5.12,!=0.5.4,!=0.5.5,!=0.5.7,!=0.5.9,<0.7.0,>=0.4.0->langchain-chroma) (3.10.15)\n",
            "Requirement already satisfied: httpx>=0.27.0 in /usr/local/lib/python3.11/dist-packages (from chromadb!=0.5.10,!=0.5.11,!=0.5.12,!=0.5.4,!=0.5.5,!=0.5.7,!=0.5.9,<0.7.0,>=0.4.0->langchain-chroma) (0.28.1)\n",
            "Requirement already satisfied: rich>=10.11.0 in /usr/local/lib/python3.11/dist-packages (from chromadb!=0.5.10,!=0.5.11,!=0.5.12,!=0.5.4,!=0.5.5,!=0.5.7,!=0.5.9,<0.7.0,>=0.4.0->langchain-chroma) (13.9.4)\n",
            "Collecting starlette<0.46.0,>=0.40.0 (from fastapi<1,>=0.95.2->langchain-chroma)\n",
            "  Downloading starlette-0.45.3-py3-none-any.whl.metadata (6.3 kB)\n",
            "Requirement already satisfied: jsonpatch<2.0,>=1.33 in /usr/local/lib/python3.11/dist-packages (from langchain-core<0.4.0,>=0.3.33->langchain) (1.33)\n",
            "Requirement already satisfied: packaging<25,>=23.2 in /usr/local/lib/python3.11/dist-packages (from langchain-core<0.4.0,>=0.3.33->langchain) (24.2)\n",
            "Requirement already satisfied: requests-toolbelt<2.0.0,>=1.0.0 in /usr/local/lib/python3.11/dist-packages (from langsmith<0.4,>=0.1.17->langchain) (1.0.0)\n",
            "Requirement already satisfied: zstandard<0.24.0,>=0.23.0 in /usr/local/lib/python3.11/dist-packages (from langsmith<0.4,>=0.1.17->langchain) (0.23.0)\n",
            "Requirement already satisfied: anyio<5,>=3.5.0 in /usr/local/lib/python3.11/dist-packages (from openai<2.0.0,>=1.58.1->langchain-openai) (3.7.1)\n",
            "Requirement already satisfied: distro<2,>=1.7.0 in /usr/local/lib/python3.11/dist-packages (from openai<2.0.0,>=1.58.1->langchain-openai) (1.9.0)\n",
            "Requirement already satisfied: jiter<1,>=0.4.0 in /usr/local/lib/python3.11/dist-packages (from openai<2.0.0,>=1.58.1->langchain-openai) (0.8.2)\n",
            "Requirement already satisfied: sniffio in /usr/local/lib/python3.11/dist-packages (from openai<2.0.0,>=1.58.1->langchain-openai) (1.3.1)\n",
            "Requirement already satisfied: annotated-types>=0.6.0 in /usr/local/lib/python3.11/dist-packages (from pydantic<3.0.0,>=2.7.4->langchain) (0.7.0)\n",
            "Requirement already satisfied: pydantic-core==2.27.2 in /usr/local/lib/python3.11/dist-packages (from pydantic<3.0.0,>=2.7.4->langchain) (2.27.2)\n",
            "Requirement already satisfied: charset-normalizer<4,>=2 in /usr/local/lib/python3.11/dist-packages (from requests<3,>=2->langchain) (3.4.1)\n",
            "Requirement already satisfied: idna<4,>=2.5 in /usr/local/lib/python3.11/dist-packages (from requests<3,>=2->langchain) (3.10)\n",
            "Requirement already satisfied: urllib3<3,>=1.21.1 in /usr/local/lib/python3.11/dist-packages (from requests<3,>=2->langchain) (2.3.0)\n",
            "Requirement already satisfied: certifi>=2017.4.17 in /usr/local/lib/python3.11/dist-packages (from requests<3,>=2->langchain) (2025.1.31)\n",
            "Requirement already satisfied: greenlet!=0.4.17 in /usr/local/lib/python3.11/dist-packages (from SQLAlchemy<3,>=1.4->langchain) (3.1.1)\n",
            "Requirement already satisfied: regex>=2022.1.18 in /usr/local/lib/python3.11/dist-packages (from tiktoken<1,>=0.7->langchain-openai) (2024.11.6)\n",
            "Collecting pyproject_hooks (from build>=1.0.3->chromadb!=0.5.10,!=0.5.11,!=0.5.12,!=0.5.4,!=0.5.5,!=0.5.7,!=0.5.9,<0.7.0,>=0.4.0->langchain-chroma)\n",
            "  Downloading pyproject_hooks-1.2.0-py3-none-any.whl.metadata (1.3 kB)\n",
            "Requirement already satisfied: httpcore==1.* in /usr/local/lib/python3.11/dist-packages (from httpx>=0.27.0->chromadb!=0.5.10,!=0.5.11,!=0.5.12,!=0.5.4,!=0.5.5,!=0.5.7,!=0.5.9,<0.7.0,>=0.4.0->langchain-chroma) (1.0.7)\n",
            "Requirement already satisfied: h11<0.15,>=0.13 in /usr/local/lib/python3.11/dist-packages (from httpcore==1.*->httpx>=0.27.0->chromadb!=0.5.10,!=0.5.11,!=0.5.12,!=0.5.4,!=0.5.5,!=0.5.7,!=0.5.9,<0.7.0,>=0.4.0->langchain-chroma) (0.14.0)\n",
            "Requirement already satisfied: jsonpointer>=1.9 in /usr/local/lib/python3.11/dist-packages (from jsonpatch<2.0,>=1.33->langchain-core<0.4.0,>=0.3.33->langchain) (3.0.0)\n",
            "Requirement already satisfied: six>=1.9.0 in /usr/local/lib/python3.11/dist-packages (from kubernetes>=28.1.0->chromadb!=0.5.10,!=0.5.11,!=0.5.12,!=0.5.4,!=0.5.5,!=0.5.7,!=0.5.9,<0.7.0,>=0.4.0->langchain-chroma) (1.17.0)\n",
            "Requirement already satisfied: python-dateutil>=2.5.3 in /usr/local/lib/python3.11/dist-packages (from kubernetes>=28.1.0->chromadb!=0.5.10,!=0.5.11,!=0.5.12,!=0.5.4,!=0.5.5,!=0.5.7,!=0.5.9,<0.7.0,>=0.4.0->langchain-chroma) (2.8.2)\n",
            "Requirement already satisfied: google-auth>=1.0.1 in /usr/local/lib/python3.11/dist-packages (from kubernetes>=28.1.0->chromadb!=0.5.10,!=0.5.11,!=0.5.12,!=0.5.4,!=0.5.5,!=0.5.7,!=0.5.9,<0.7.0,>=0.4.0->langchain-chroma) (2.27.0)\n",
            "Requirement already satisfied: websocket-client!=0.40.0,!=0.41.*,!=0.42.*,>=0.32.0 in /usr/local/lib/python3.11/dist-packages (from kubernetes>=28.1.0->chromadb!=0.5.10,!=0.5.11,!=0.5.12,!=0.5.4,!=0.5.5,!=0.5.7,!=0.5.9,<0.7.0,>=0.4.0->langchain-chroma) (1.8.0)\n",
            "Requirement already satisfied: requests-oauthlib in /usr/local/lib/python3.11/dist-packages (from kubernetes>=28.1.0->chromadb!=0.5.10,!=0.5.11,!=0.5.12,!=0.5.4,!=0.5.5,!=0.5.7,!=0.5.9,<0.7.0,>=0.4.0->langchain-chroma) (2.0.0)\n",
            "Requirement already satisfied: oauthlib>=3.2.2 in /usr/local/lib/python3.11/dist-packages (from kubernetes>=28.1.0->chromadb!=0.5.10,!=0.5.11,!=0.5.12,!=0.5.4,!=0.5.5,!=0.5.7,!=0.5.9,<0.7.0,>=0.4.0->langchain-chroma) (3.2.2)\n",
            "Collecting durationpy>=0.7 (from kubernetes>=28.1.0->chromadb!=0.5.10,!=0.5.11,!=0.5.12,!=0.5.4,!=0.5.5,!=0.5.7,!=0.5.9,<0.7.0,>=0.4.0->langchain-chroma)\n",
            "  Downloading durationpy-0.9-py3-none-any.whl.metadata (338 bytes)\n",
            "Collecting coloredlogs (from onnxruntime>=1.14.1->chromadb!=0.5.10,!=0.5.11,!=0.5.12,!=0.5.4,!=0.5.5,!=0.5.7,!=0.5.9,<0.7.0,>=0.4.0->langchain-chroma)\n",
            "  Downloading coloredlogs-15.0.1-py2.py3-none-any.whl.metadata (12 kB)\n",
            "Requirement already satisfied: flatbuffers in /usr/local/lib/python3.11/dist-packages (from onnxruntime>=1.14.1->chromadb!=0.5.10,!=0.5.11,!=0.5.12,!=0.5.4,!=0.5.5,!=0.5.7,!=0.5.9,<0.7.0,>=0.4.0->langchain-chroma) (25.1.24)\n",
            "Requirement already satisfied: protobuf in /usr/local/lib/python3.11/dist-packages (from onnxruntime>=1.14.1->chromadb!=0.5.10,!=0.5.11,!=0.5.12,!=0.5.4,!=0.5.5,!=0.5.7,!=0.5.9,<0.7.0,>=0.4.0->langchain-chroma) (4.25.6)\n",
            "Requirement already satisfied: sympy in /usr/local/lib/python3.11/dist-packages (from onnxruntime>=1.14.1->chromadb!=0.5.10,!=0.5.11,!=0.5.12,!=0.5.4,!=0.5.5,!=0.5.7,!=0.5.9,<0.7.0,>=0.4.0->langchain-chroma) (1.13.1)\n",
            "Requirement already satisfied: deprecated>=1.2.6 in /usr/local/lib/python3.11/dist-packages (from opentelemetry-api>=1.2.0->chromadb!=0.5.10,!=0.5.11,!=0.5.12,!=0.5.4,!=0.5.5,!=0.5.7,!=0.5.9,<0.7.0,>=0.4.0->langchain-chroma) (1.2.18)\n",
            "Requirement already satisfied: setuptools>=16.0 in /usr/local/lib/python3.11/dist-packages (from opentelemetry-api>=1.2.0->chromadb!=0.5.10,!=0.5.11,!=0.5.12,!=0.5.4,!=0.5.5,!=0.5.7,!=0.5.9,<0.7.0,>=0.4.0->langchain-chroma) (75.1.0)\n",
            "Requirement already satisfied: googleapis-common-protos~=1.52 in /usr/local/lib/python3.11/dist-packages (from opentelemetry-exporter-otlp-proto-grpc>=1.2.0->chromadb!=0.5.10,!=0.5.11,!=0.5.12,!=0.5.4,!=0.5.5,!=0.5.7,!=0.5.9,<0.7.0,>=0.4.0->langchain-chroma) (1.66.0)\n",
            "Collecting opentelemetry-exporter-otlp-proto-common==1.30.0 (from opentelemetry-exporter-otlp-proto-grpc>=1.2.0->chromadb!=0.5.10,!=0.5.11,!=0.5.12,!=0.5.4,!=0.5.5,!=0.5.7,!=0.5.9,<0.7.0,>=0.4.0->langchain-chroma)\n",
            "  Downloading opentelemetry_exporter_otlp_proto_common-1.30.0-py3-none-any.whl.metadata (1.9 kB)\n",
            "Collecting opentelemetry-proto==1.30.0 (from opentelemetry-exporter-otlp-proto-grpc>=1.2.0->chromadb!=0.5.10,!=0.5.11,!=0.5.12,!=0.5.4,!=0.5.5,!=0.5.7,!=0.5.9,<0.7.0,>=0.4.0->langchain-chroma)\n",
            "  Downloading opentelemetry_proto-1.30.0-py3-none-any.whl.metadata (2.4 kB)\n",
            "Collecting opentelemetry-sdk>=1.2.0 (from chromadb!=0.5.10,!=0.5.11,!=0.5.12,!=0.5.4,!=0.5.5,!=0.5.7,!=0.5.9,<0.7.0,>=0.4.0->langchain-chroma)\n",
            "  Downloading opentelemetry_sdk-1.30.0-py3-none-any.whl.metadata (1.6 kB)\n",
            "Collecting protobuf (from onnxruntime>=1.14.1->chromadb!=0.5.10,!=0.5.11,!=0.5.12,!=0.5.4,!=0.5.5,!=0.5.7,!=0.5.9,<0.7.0,>=0.4.0->langchain-chroma)\n",
            "  Downloading protobuf-5.29.3-cp38-abi3-manylinux2014_x86_64.whl.metadata (592 bytes)\n",
            "Collecting opentelemetry-instrumentation-asgi==0.51b0 (from opentelemetry-instrumentation-fastapi>=0.41b0->chromadb!=0.5.10,!=0.5.11,!=0.5.12,!=0.5.4,!=0.5.5,!=0.5.7,!=0.5.9,<0.7.0,>=0.4.0->langchain-chroma)\n",
            "  Downloading opentelemetry_instrumentation_asgi-0.51b0-py3-none-any.whl.metadata (2.1 kB)\n",
            "Collecting opentelemetry-instrumentation==0.51b0 (from opentelemetry-instrumentation-fastapi>=0.41b0->chromadb!=0.5.10,!=0.5.11,!=0.5.12,!=0.5.4,!=0.5.5,!=0.5.7,!=0.5.9,<0.7.0,>=0.4.0->langchain-chroma)\n",
            "  Downloading opentelemetry_instrumentation-0.51b0-py3-none-any.whl.metadata (6.3 kB)\n",
            "Collecting opentelemetry-semantic-conventions==0.51b0 (from opentelemetry-instrumentation-fastapi>=0.41b0->chromadb!=0.5.10,!=0.5.11,!=0.5.12,!=0.5.4,!=0.5.5,!=0.5.7,!=0.5.9,<0.7.0,>=0.4.0->langchain-chroma)\n",
            "  Downloading opentelemetry_semantic_conventions-0.51b0-py3-none-any.whl.metadata (2.5 kB)\n",
            "Collecting opentelemetry-util-http==0.51b0 (from opentelemetry-instrumentation-fastapi>=0.41b0->chromadb!=0.5.10,!=0.5.11,!=0.5.12,!=0.5.4,!=0.5.5,!=0.5.7,!=0.5.9,<0.7.0,>=0.4.0->langchain-chroma)\n",
            "  Downloading opentelemetry_util_http-0.51b0-py3-none-any.whl.metadata (2.6 kB)\n",
            "Requirement already satisfied: wrapt<2.0.0,>=1.0.0 in /usr/local/lib/python3.11/dist-packages (from opentelemetry-instrumentation==0.51b0->opentelemetry-instrumentation-fastapi>=0.41b0->chromadb!=0.5.10,!=0.5.11,!=0.5.12,!=0.5.4,!=0.5.5,!=0.5.7,!=0.5.9,<0.7.0,>=0.4.0->langchain-chroma) (1.17.2)\n",
            "Collecting asgiref~=3.0 (from opentelemetry-instrumentation-asgi==0.51b0->opentelemetry-instrumentation-fastapi>=0.41b0->chromadb!=0.5.10,!=0.5.11,!=0.5.12,!=0.5.4,!=0.5.5,!=0.5.7,!=0.5.9,<0.7.0,>=0.4.0->langchain-chroma)\n",
            "  Downloading asgiref-3.8.1-py3-none-any.whl.metadata (9.3 kB)\n",
            "Collecting opentelemetry-api>=1.2.0 (from chromadb!=0.5.10,!=0.5.11,!=0.5.12,!=0.5.4,!=0.5.5,!=0.5.7,!=0.5.9,<0.7.0,>=0.4.0->langchain-chroma)\n",
            "  Downloading opentelemetry_api-1.30.0-py3-none-any.whl.metadata (1.6 kB)\n",
            "Collecting importlib-metadata<=8.5.0,>=6.0 (from opentelemetry-api>=1.2.0->chromadb!=0.5.10,!=0.5.11,!=0.5.12,!=0.5.4,!=0.5.5,!=0.5.7,!=0.5.9,<0.7.0,>=0.4.0->langchain-chroma)\n",
            "  Downloading importlib_metadata-8.5.0-py3-none-any.whl.metadata (4.8 kB)\n",
            "Collecting monotonic>=1.5 (from posthog>=2.4.0->chromadb!=0.5.10,!=0.5.11,!=0.5.12,!=0.5.4,!=0.5.5,!=0.5.7,!=0.5.9,<0.7.0,>=0.4.0->langchain-chroma)\n",
            "  Downloading monotonic-1.6-py2.py3-none-any.whl.metadata (1.5 kB)\n",
            "Collecting backoff>=1.10.0 (from posthog>=2.4.0->chromadb!=0.5.10,!=0.5.11,!=0.5.12,!=0.5.4,!=0.5.5,!=0.5.7,!=0.5.9,<0.7.0,>=0.4.0->langchain-chroma)\n",
            "  Downloading backoff-2.2.1-py3-none-any.whl.metadata (14 kB)\n",
            "Requirement already satisfied: markdown-it-py>=2.2.0 in /usr/local/lib/python3.11/dist-packages (from rich>=10.11.0->chromadb!=0.5.10,!=0.5.11,!=0.5.12,!=0.5.4,!=0.5.5,!=0.5.7,!=0.5.9,<0.7.0,>=0.4.0->langchain-chroma) (3.0.0)\n",
            "Requirement already satisfied: pygments<3.0.0,>=2.13.0 in /usr/local/lib/python3.11/dist-packages (from rich>=10.11.0->chromadb!=0.5.10,!=0.5.11,!=0.5.12,!=0.5.4,!=0.5.5,!=0.5.7,!=0.5.9,<0.7.0,>=0.4.0->langchain-chroma) (2.18.0)\n",
            "Requirement already satisfied: huggingface-hub<1.0,>=0.16.4 in /usr/local/lib/python3.11/dist-packages (from tokenizers>=0.13.2->chromadb!=0.5.10,!=0.5.11,!=0.5.12,!=0.5.4,!=0.5.5,!=0.5.7,!=0.5.9,<0.7.0,>=0.4.0->langchain-chroma) (0.28.1)\n",
            "Requirement already satisfied: click>=8.0.0 in /usr/local/lib/python3.11/dist-packages (from typer>=0.9.0->chromadb!=0.5.10,!=0.5.11,!=0.5.12,!=0.5.4,!=0.5.5,!=0.5.7,!=0.5.9,<0.7.0,>=0.4.0->langchain-chroma) (8.1.8)\n",
            "Requirement already satisfied: shellingham>=1.3.0 in /usr/local/lib/python3.11/dist-packages (from typer>=0.9.0->chromadb!=0.5.10,!=0.5.11,!=0.5.12,!=0.5.4,!=0.5.5,!=0.5.7,!=0.5.9,<0.7.0,>=0.4.0->langchain-chroma) (1.5.4)\n",
            "Collecting httptools>=0.6.3 (from uvicorn[standard]>=0.18.3->chromadb!=0.5.10,!=0.5.11,!=0.5.12,!=0.5.4,!=0.5.5,!=0.5.7,!=0.5.9,<0.7.0,>=0.4.0->langchain-chroma)\n",
            "  Downloading httptools-0.6.4-cp311-cp311-manylinux_2_5_x86_64.manylinux1_x86_64.manylinux_2_17_x86_64.manylinux2014_x86_64.whl.metadata (3.6 kB)\n",
            "Collecting python-dotenv>=0.13 (from uvicorn[standard]>=0.18.3->chromadb!=0.5.10,!=0.5.11,!=0.5.12,!=0.5.4,!=0.5.5,!=0.5.7,!=0.5.9,<0.7.0,>=0.4.0->langchain-chroma)\n",
            "  Downloading python_dotenv-1.0.1-py3-none-any.whl.metadata (23 kB)\n",
            "Collecting uvloop!=0.15.0,!=0.15.1,>=0.14.0 (from uvicorn[standard]>=0.18.3->chromadb!=0.5.10,!=0.5.11,!=0.5.12,!=0.5.4,!=0.5.5,!=0.5.7,!=0.5.9,<0.7.0,>=0.4.0->langchain-chroma)\n",
            "  Downloading uvloop-0.21.0-cp311-cp311-manylinux_2_17_x86_64.manylinux2014_x86_64.whl.metadata (4.9 kB)\n",
            "Collecting watchfiles>=0.13 (from uvicorn[standard]>=0.18.3->chromadb!=0.5.10,!=0.5.11,!=0.5.12,!=0.5.4,!=0.5.5,!=0.5.7,!=0.5.9,<0.7.0,>=0.4.0->langchain-chroma)\n",
            "  Downloading watchfiles-1.0.4-cp311-cp311-manylinux_2_17_x86_64.manylinux2014_x86_64.whl.metadata (4.9 kB)\n",
            "Requirement already satisfied: websockets>=10.4 in /usr/local/lib/python3.11/dist-packages (from uvicorn[standard]>=0.18.3->chromadb!=0.5.10,!=0.5.11,!=0.5.12,!=0.5.4,!=0.5.5,!=0.5.7,!=0.5.9,<0.7.0,>=0.4.0->langchain-chroma) (14.2)\n",
            "Requirement already satisfied: cachetools<6.0,>=2.0.0 in /usr/local/lib/python3.11/dist-packages (from google-auth>=1.0.1->kubernetes>=28.1.0->chromadb!=0.5.10,!=0.5.11,!=0.5.12,!=0.5.4,!=0.5.5,!=0.5.7,!=0.5.9,<0.7.0,>=0.4.0->langchain-chroma) (5.5.1)\n",
            "Requirement already satisfied: pyasn1-modules>=0.2.1 in /usr/local/lib/python3.11/dist-packages (from google-auth>=1.0.1->kubernetes>=28.1.0->chromadb!=0.5.10,!=0.5.11,!=0.5.12,!=0.5.4,!=0.5.5,!=0.5.7,!=0.5.9,<0.7.0,>=0.4.0->langchain-chroma) (0.4.1)\n",
            "Requirement already satisfied: rsa<5,>=3.1.4 in /usr/local/lib/python3.11/dist-packages (from google-auth>=1.0.1->kubernetes>=28.1.0->chromadb!=0.5.10,!=0.5.11,!=0.5.12,!=0.5.4,!=0.5.5,!=0.5.7,!=0.5.9,<0.7.0,>=0.4.0->langchain-chroma) (4.9)\n",
            "Requirement already satisfied: filelock in /usr/local/lib/python3.11/dist-packages (from huggingface-hub<1.0,>=0.16.4->tokenizers>=0.13.2->chromadb!=0.5.10,!=0.5.11,!=0.5.12,!=0.5.4,!=0.5.5,!=0.5.7,!=0.5.9,<0.7.0,>=0.4.0->langchain-chroma) (3.17.0)\n",
            "Requirement already satisfied: fsspec>=2023.5.0 in /usr/local/lib/python3.11/dist-packages (from huggingface-hub<1.0,>=0.16.4->tokenizers>=0.13.2->chromadb!=0.5.10,!=0.5.11,!=0.5.12,!=0.5.4,!=0.5.5,!=0.5.7,!=0.5.9,<0.7.0,>=0.4.0->langchain-chroma) (2024.10.0)\n",
            "Requirement already satisfied: zipp>=3.20 in /usr/local/lib/python3.11/dist-packages (from importlib-metadata<=8.5.0,>=6.0->opentelemetry-api>=1.2.0->chromadb!=0.5.10,!=0.5.11,!=0.5.12,!=0.5.4,!=0.5.5,!=0.5.7,!=0.5.9,<0.7.0,>=0.4.0->langchain-chroma) (3.21.0)\n",
            "Requirement already satisfied: mdurl~=0.1 in /usr/local/lib/python3.11/dist-packages (from markdown-it-py>=2.2.0->rich>=10.11.0->chromadb!=0.5.10,!=0.5.11,!=0.5.12,!=0.5.4,!=0.5.5,!=0.5.7,!=0.5.9,<0.7.0,>=0.4.0->langchain-chroma) (0.1.2)\n",
            "Collecting humanfriendly>=9.1 (from coloredlogs->onnxruntime>=1.14.1->chromadb!=0.5.10,!=0.5.11,!=0.5.12,!=0.5.4,!=0.5.5,!=0.5.7,!=0.5.9,<0.7.0,>=0.4.0->langchain-chroma)\n",
            "  Downloading humanfriendly-10.0-py2.py3-none-any.whl.metadata (9.2 kB)\n",
            "Requirement already satisfied: mpmath<1.4,>=1.1.0 in /usr/local/lib/python3.11/dist-packages (from sympy->onnxruntime>=1.14.1->chromadb!=0.5.10,!=0.5.11,!=0.5.12,!=0.5.4,!=0.5.5,!=0.5.7,!=0.5.9,<0.7.0,>=0.4.0->langchain-chroma) (1.3.0)\n",
            "Requirement already satisfied: pyasn1<0.7.0,>=0.4.6 in /usr/local/lib/python3.11/dist-packages (from pyasn1-modules>=0.2.1->google-auth>=1.0.1->kubernetes>=28.1.0->chromadb!=0.5.10,!=0.5.11,!=0.5.12,!=0.5.4,!=0.5.5,!=0.5.7,!=0.5.9,<0.7.0,>=0.4.0->langchain-chroma) (0.6.1)\n",
            "Downloading langchain_chroma-0.2.1-py3-none-any.whl (11 kB)\n",
            "Downloading langchain_openai-0.3.4-py3-none-any.whl (54 kB)\n",
            "\u001b[2K   \u001b[90m━━━━━━━━━━━━━━━━━━━━━━━━━━━━━━━━━━━━━━━━\u001b[0m \u001b[32m54.7/54.7 kB\u001b[0m \u001b[31m4.2 MB/s\u001b[0m eta \u001b[36m0:00:00\u001b[0m\n",
            "\u001b[?25hDownloading chromadb-0.6.3-py3-none-any.whl (611 kB)\n",
            "\u001b[2K   \u001b[90m━━━━━━━━━━━━━━━━━━━━━━━━━━━━━━━━━━━━━━━━\u001b[0m \u001b[32m611.1/611.1 kB\u001b[0m \u001b[31m35.9 MB/s\u001b[0m eta \u001b[36m0:00:00\u001b[0m\n",
            "\u001b[?25hDownloading chroma_hnswlib-0.7.6-cp311-cp311-manylinux_2_17_x86_64.manylinux2014_x86_64.whl (2.4 MB)\n",
            "\u001b[2K   \u001b[90m━━━━━━━━━━━━━━━━━━━━━━━━━━━━━━━━━━━━━━━━\u001b[0m \u001b[32m2.4/2.4 MB\u001b[0m \u001b[31m61.8 MB/s\u001b[0m eta \u001b[36m0:00:00\u001b[0m\n",
            "\u001b[?25hDownloading fastapi-0.115.8-py3-none-any.whl (94 kB)\n",
            "\u001b[2K   \u001b[90m━━━━━━━━━━━━━━━━━━━━━━━━━━━━━━━━━━━━━━━━\u001b[0m \u001b[32m94.8/94.8 kB\u001b[0m \u001b[31m6.6 MB/s\u001b[0m eta \u001b[36m0:00:00\u001b[0m\n",
            "\u001b[?25hDownloading langchain_core-0.3.34-py3-none-any.whl (412 kB)\n",
            "\u001b[2K   \u001b[90m━━━━━━━━━━━━━━━━━━━━━━━━━━━━━━━━━━━━━━━━\u001b[0m \u001b[32m413.0/413.0 kB\u001b[0m \u001b[31m26.7 MB/s\u001b[0m eta \u001b[36m0:00:00\u001b[0m\n",
            "\u001b[?25hDownloading tiktoken-0.8.0-cp311-cp311-manylinux_2_17_x86_64.manylinux2014_x86_64.whl (1.2 MB)\n",
            "\u001b[2K   \u001b[90m━━━━━━━━━━━━━━━━━━━━━━━━━━━━━━━━━━━━━━━━\u001b[0m \u001b[32m1.2/1.2 MB\u001b[0m \u001b[31m39.9 MB/s\u001b[0m eta \u001b[36m0:00:00\u001b[0m\n",
            "\u001b[?25hDownloading bcrypt-4.2.1-cp39-abi3-manylinux_2_28_x86_64.whl (278 kB)\n",
            "\u001b[2K   \u001b[90m━━━━━━━━━━━━━━━━━━━━━━━━━━━━━━━━━━━━━━━━\u001b[0m \u001b[32m278.6/278.6 kB\u001b[0m \u001b[31m14.8 MB/s\u001b[0m eta \u001b[36m0:00:00\u001b[0m\n",
            "\u001b[?25hDownloading build-1.2.2.post1-py3-none-any.whl (22 kB)\n",
            "Downloading kubernetes-32.0.0-py2.py3-none-any.whl (2.0 MB)\n",
            "\u001b[2K   \u001b[90m━━━━━━━━━━━━━━━━━━━━━━━━━━━━━━━━━━━━━━━━\u001b[0m \u001b[32m2.0/2.0 MB\u001b[0m \u001b[31m54.1 MB/s\u001b[0m eta \u001b[36m0:00:00\u001b[0m\n",
            "\u001b[?25hDownloading mmh3-5.1.0-cp311-cp311-manylinux_2_5_x86_64.manylinux1_x86_64.manylinux_2_17_x86_64.manylinux2014_x86_64.whl (101 kB)\n",
            "\u001b[2K   \u001b[90m━━━━━━━━━━━━━━━━━━━━━━━━━━━━━━━━━━━━━━━━\u001b[0m \u001b[32m101.6/101.6 kB\u001b[0m \u001b[31m6.9 MB/s\u001b[0m eta \u001b[36m0:00:00\u001b[0m\n",
            "\u001b[?25hDownloading onnxruntime-1.20.1-cp311-cp311-manylinux_2_27_x86_64.manylinux_2_28_x86_64.whl (13.3 MB)\n",
            "\u001b[2K   \u001b[90m━━━━━━━━━━━━━━━━━━━━━━━━━━━━━━━━━━━━━━━━\u001b[0m \u001b[32m13.3/13.3 MB\u001b[0m \u001b[31m68.8 MB/s\u001b[0m eta \u001b[36m0:00:00\u001b[0m\n",
            "\u001b[?25hDownloading opentelemetry_exporter_otlp_proto_grpc-1.30.0-py3-none-any.whl (18 kB)\n",
            "Downloading opentelemetry_exporter_otlp_proto_common-1.30.0-py3-none-any.whl (18 kB)\n",
            "Downloading opentelemetry_proto-1.30.0-py3-none-any.whl (55 kB)\n",
            "\u001b[2K   \u001b[90m━━━━━━━━━━━━━━━━━━━━━━━━━━━━━━━━━━━━━━━━\u001b[0m \u001b[32m55.9/55.9 kB\u001b[0m \u001b[31m4.2 MB/s\u001b[0m eta \u001b[36m0:00:00\u001b[0m\n",
            "\u001b[?25hDownloading opentelemetry_instrumentation_fastapi-0.51b0-py3-none-any.whl (12 kB)\n",
            "Downloading opentelemetry_instrumentation-0.51b0-py3-none-any.whl (30 kB)\n",
            "Downloading opentelemetry_instrumentation_asgi-0.51b0-py3-none-any.whl (16 kB)\n",
            "Downloading opentelemetry_semantic_conventions-0.51b0-py3-none-any.whl (177 kB)\n",
            "\u001b[2K   \u001b[90m━━━━━━━━━━━━━━━━━━━━━━━━━━━━━━━━━━━━━━━━\u001b[0m \u001b[32m177.4/177.4 kB\u001b[0m \u001b[31m12.1 MB/s\u001b[0m eta \u001b[36m0:00:00\u001b[0m\n",
            "\u001b[?25hDownloading opentelemetry_api-1.30.0-py3-none-any.whl (64 kB)\n",
            "\u001b[2K   \u001b[90m━━━━━━━━━━━━━━━━━━━━━━━━━━━━━━━━━━━━━━━━\u001b[0m \u001b[32m65.0/65.0 kB\u001b[0m \u001b[31m4.5 MB/s\u001b[0m eta \u001b[36m0:00:00\u001b[0m\n",
            "\u001b[?25hDownloading opentelemetry_util_http-0.51b0-py3-none-any.whl (7.3 kB)\n",
            "Downloading opentelemetry_sdk-1.30.0-py3-none-any.whl (118 kB)\n",
            "\u001b[2K   \u001b[90m━━━━━━━━━━━━━━━━━━━━━━━━━━━━━━━━━━━━━━━━\u001b[0m \u001b[32m118.7/118.7 kB\u001b[0m \u001b[31m9.5 MB/s\u001b[0m eta \u001b[36m0:00:00\u001b[0m\n",
            "\u001b[?25hDownloading overrides-7.7.0-py3-none-any.whl (17 kB)\n",
            "Downloading posthog-3.11.0-py2.py3-none-any.whl (72 kB)\n",
            "\u001b[2K   \u001b[90m━━━━━━━━━━━━━━━━━━━━━━━━━━━━━━━━━━━━━━━━\u001b[0m \u001b[32m72.0/72.0 kB\u001b[0m \u001b[31m6.0 MB/s\u001b[0m eta \u001b[36m0:00:00\u001b[0m\n",
            "\u001b[?25hDownloading starlette-0.45.3-py3-none-any.whl (71 kB)\n",
            "\u001b[2K   \u001b[90m━━━━━━━━━━━━━━━━━━━━━━━━━━━━━━━━━━━━━━━━\u001b[0m \u001b[32m71.5/71.5 kB\u001b[0m \u001b[31m6.1 MB/s\u001b[0m eta \u001b[36m0:00:00\u001b[0m\n",
            "\u001b[?25hDownloading uvicorn-0.34.0-py3-none-any.whl (62 kB)\n",
            "\u001b[2K   \u001b[90m━━━━━━━━━━━━━━━━━━━━━━━━━━━━━━━━━━━━━━━━\u001b[0m \u001b[32m62.3/62.3 kB\u001b[0m \u001b[31m5.2 MB/s\u001b[0m eta \u001b[36m0:00:00\u001b[0m\n",
            "\u001b[?25hDownloading backoff-2.2.1-py3-none-any.whl (15 kB)\n",
            "Downloading durationpy-0.9-py3-none-any.whl (3.5 kB)\n",
            "Downloading httptools-0.6.4-cp311-cp311-manylinux_2_5_x86_64.manylinux1_x86_64.manylinux_2_17_x86_64.manylinux2014_x86_64.whl (459 kB)\n",
            "\u001b[2K   \u001b[90m━━━━━━━━━━━━━━━━━━━━━━━━━━━━━━━━━━━━━━━━\u001b[0m \u001b[32m459.8/459.8 kB\u001b[0m \u001b[31m24.3 MB/s\u001b[0m eta \u001b[36m0:00:00\u001b[0m\n",
            "\u001b[?25hDownloading importlib_metadata-8.5.0-py3-none-any.whl (26 kB)\n",
            "Downloading monotonic-1.6-py2.py3-none-any.whl (8.2 kB)\n",
            "Downloading protobuf-5.29.3-cp38-abi3-manylinux2014_x86_64.whl (319 kB)\n",
            "\u001b[2K   \u001b[90m━━━━━━━━━━━━━━━━━━━━━━━━━━━━━━━━━━━━━━━━\u001b[0m \u001b[32m319.7/319.7 kB\u001b[0m \u001b[31m16.8 MB/s\u001b[0m eta \u001b[36m0:00:00\u001b[0m\n",
            "\u001b[?25hDownloading python_dotenv-1.0.1-py3-none-any.whl (19 kB)\n",
            "Downloading uvloop-0.21.0-cp311-cp311-manylinux_2_17_x86_64.manylinux2014_x86_64.whl (4.0 MB)\n",
            "\u001b[2K   \u001b[90m━━━━━━━━━━━━━━━━━━━━━━━━━━━━━━━━━━━━━━━━\u001b[0m \u001b[32m4.0/4.0 MB\u001b[0m \u001b[31m68.8 MB/s\u001b[0m eta \u001b[36m0:00:00\u001b[0m\n",
            "\u001b[?25hDownloading watchfiles-1.0.4-cp311-cp311-manylinux_2_17_x86_64.manylinux2014_x86_64.whl (452 kB)\n",
            "\u001b[2K   \u001b[90m━━━━━━━━━━━━━━━━━━━━━━━━━━━━━━━━━━━━━━━━\u001b[0m \u001b[32m452.6/452.6 kB\u001b[0m \u001b[31m25.8 MB/s\u001b[0m eta \u001b[36m0:00:00\u001b[0m\n",
            "\u001b[?25hDownloading coloredlogs-15.0.1-py2.py3-none-any.whl (46 kB)\n",
            "\u001b[2K   \u001b[90m━━━━━━━━━━━━━━━━━━━━━━━━━━━━━━━━━━━━━━━━\u001b[0m \u001b[32m46.0/46.0 kB\u001b[0m \u001b[31m3.4 MB/s\u001b[0m eta \u001b[36m0:00:00\u001b[0m\n",
            "\u001b[?25hDownloading pyproject_hooks-1.2.0-py3-none-any.whl (10 kB)\n",
            "Downloading asgiref-3.8.1-py3-none-any.whl (23 kB)\n",
            "Downloading humanfriendly-10.0-py2.py3-none-any.whl (86 kB)\n",
            "\u001b[2K   \u001b[90m━━━━━━━━━━━━━━━━━━━━━━━━━━━━━━━━━━━━━━━━\u001b[0m \u001b[32m86.8/86.8 kB\u001b[0m \u001b[31m6.0 MB/s\u001b[0m eta \u001b[36m0:00:00\u001b[0m\n",
            "\u001b[?25hBuilding wheels for collected packages: pypika\n",
            "  Building wheel for pypika (pyproject.toml) ... \u001b[?25l\u001b[?25hdone\n",
            "  Created wheel for pypika: filename=PyPika-0.48.9-py2.py3-none-any.whl size=53771 sha256=e2b869ab4eeafb27dc69e90c12a837f2d98b752d23b98cb21b5e23818fbf9232\n",
            "  Stored in directory: /root/.cache/pip/wheels/a3/01/bd/4c40ceb9d5354160cb186dcc153360f4ab7eb23e2b24daf96d\n",
            "Successfully built pypika\n",
            "Installing collected packages: pypika, monotonic, durationpy, uvloop, uvicorn, python-dotenv, pyproject_hooks, protobuf, overrides, opentelemetry-util-http, mmh3, importlib-metadata, humanfriendly, httptools, chroma-hnswlib, bcrypt, backoff, asgiref, watchfiles, tiktoken, starlette, posthog, opentelemetry-proto, opentelemetry-api, coloredlogs, build, opentelemetry-semantic-conventions, opentelemetry-exporter-otlp-proto-common, onnxruntime, kubernetes, fastapi, opentelemetry-sdk, opentelemetry-instrumentation, langchain-core, opentelemetry-instrumentation-asgi, opentelemetry-exporter-otlp-proto-grpc, langchain-openai, opentelemetry-instrumentation-fastapi, chromadb, langchain-chroma\n",
            "  Attempting uninstall: protobuf\n",
            "    Found existing installation: protobuf 4.25.6\n",
            "    Uninstalling protobuf-4.25.6:\n",
            "      Successfully uninstalled protobuf-4.25.6\n",
            "  Attempting uninstall: importlib-metadata\n",
            "    Found existing installation: importlib_metadata 8.6.1\n",
            "    Uninstalling importlib_metadata-8.6.1:\n",
            "      Successfully uninstalled importlib_metadata-8.6.1\n",
            "  Attempting uninstall: opentelemetry-api\n",
            "    Found existing installation: opentelemetry-api 1.16.0\n",
            "    Uninstalling opentelemetry-api-1.16.0:\n",
            "      Successfully uninstalled opentelemetry-api-1.16.0\n",
            "  Attempting uninstall: opentelemetry-semantic-conventions\n",
            "    Found existing installation: opentelemetry-semantic-conventions 0.37b0\n",
            "    Uninstalling opentelemetry-semantic-conventions-0.37b0:\n",
            "      Successfully uninstalled opentelemetry-semantic-conventions-0.37b0\n",
            "  Attempting uninstall: opentelemetry-sdk\n",
            "    Found existing installation: opentelemetry-sdk 1.16.0\n",
            "    Uninstalling opentelemetry-sdk-1.16.0:\n",
            "      Successfully uninstalled opentelemetry-sdk-1.16.0\n",
            "  Attempting uninstall: langchain-core\n",
            "    Found existing installation: langchain-core 0.3.33\n",
            "    Uninstalling langchain-core-0.3.33:\n",
            "      Successfully uninstalled langchain-core-0.3.33\n",
            "Successfully installed asgiref-3.8.1 backoff-2.2.1 bcrypt-4.2.1 build-1.2.2.post1 chroma-hnswlib-0.7.6 chromadb-0.6.3 coloredlogs-15.0.1 durationpy-0.9 fastapi-0.115.8 httptools-0.6.4 humanfriendly-10.0 importlib-metadata-8.5.0 kubernetes-32.0.0 langchain-chroma-0.2.1 langchain-core-0.3.34 langchain-openai-0.3.4 mmh3-5.1.0 monotonic-1.6 onnxruntime-1.20.1 opentelemetry-api-1.30.0 opentelemetry-exporter-otlp-proto-common-1.30.0 opentelemetry-exporter-otlp-proto-grpc-1.30.0 opentelemetry-instrumentation-0.51b0 opentelemetry-instrumentation-asgi-0.51b0 opentelemetry-instrumentation-fastapi-0.51b0 opentelemetry-proto-1.30.0 opentelemetry-sdk-1.30.0 opentelemetry-semantic-conventions-0.51b0 opentelemetry-util-http-0.51b0 overrides-7.7.0 posthog-3.11.0 protobuf-5.29.3 pypika-0.48.9 pyproject_hooks-1.2.0 python-dotenv-1.0.1 starlette-0.45.3 tiktoken-0.8.0 uvicorn-0.34.0 uvloop-0.21.0 watchfiles-1.0.4\n"
          ]
        },
        {
          "output_type": "display_data",
          "data": {
            "application/vnd.colab-display-data+json": {
              "pip_warning": {
                "packages": [
                  "importlib_metadata"
                ]
              },
              "id": "163551a5c23f4c44adf1338f83d2fd2b"
            }
          },
          "metadata": {}
        },
        {
          "output_type": "stream",
          "name": "stdout",
          "text": [
            "Requirement already satisfied: beautifulsoup4 in /usr/local/lib/python3.11/dist-packages (4.13.3)\n",
            "Requirement already satisfied: soupsieve>1.2 in /usr/local/lib/python3.11/dist-packages (from beautifulsoup4) (2.6)\n",
            "Requirement already satisfied: typing-extensions>=4.0.0 in /usr/local/lib/python3.11/dist-packages (from beautifulsoup4) (4.12.2)\n",
            "Collecting langchain-community\n",
            "  Downloading langchain_community-0.3.17-py3-none-any.whl.metadata (2.4 kB)\n",
            "Requirement already satisfied: langchain-core<1.0.0,>=0.3.34 in /usr/local/lib/python3.11/dist-packages (from langchain-community) (0.3.34)\n",
            "Collecting langchain<1.0.0,>=0.3.18 (from langchain-community)\n",
            "  Downloading langchain-0.3.18-py3-none-any.whl.metadata (7.8 kB)\n",
            "Requirement already satisfied: SQLAlchemy<3,>=1.4 in /usr/local/lib/python3.11/dist-packages (from langchain-community) (2.0.37)\n",
            "Requirement already satisfied: requests<3,>=2 in /usr/local/lib/python3.11/dist-packages (from langchain-community) (2.32.3)\n",
            "Requirement already satisfied: PyYAML>=5.3 in /usr/local/lib/python3.11/dist-packages (from langchain-community) (6.0.2)\n",
            "Requirement already satisfied: aiohttp<4.0.0,>=3.8.3 in /usr/local/lib/python3.11/dist-packages (from langchain-community) (3.11.11)\n",
            "Requirement already satisfied: tenacity!=8.4.0,<10,>=8.1.0 in /usr/local/lib/python3.11/dist-packages (from langchain-community) (9.0.0)\n",
            "Collecting dataclasses-json<0.7,>=0.5.7 (from langchain-community)\n",
            "  Downloading dataclasses_json-0.6.7-py3-none-any.whl.metadata (25 kB)\n",
            "Collecting pydantic-settings<3.0.0,>=2.4.0 (from langchain-community)\n",
            "  Downloading pydantic_settings-2.7.1-py3-none-any.whl.metadata (3.5 kB)\n",
            "Requirement already satisfied: langsmith<0.4,>=0.1.125 in /usr/local/lib/python3.11/dist-packages (from langchain-community) (0.3.5)\n",
            "Collecting httpx-sse<1.0.0,>=0.4.0 (from langchain-community)\n",
            "  Downloading httpx_sse-0.4.0-py3-none-any.whl.metadata (9.0 kB)\n",
            "Requirement already satisfied: numpy<2,>=1.26.4 in /usr/local/lib/python3.11/dist-packages (from langchain-community) (1.26.4)\n",
            "Requirement already satisfied: aiohappyeyeballs>=2.3.0 in /usr/local/lib/python3.11/dist-packages (from aiohttp<4.0.0,>=3.8.3->langchain-community) (2.4.4)\n",
            "Requirement already satisfied: aiosignal>=1.1.2 in /usr/local/lib/python3.11/dist-packages (from aiohttp<4.0.0,>=3.8.3->langchain-community) (1.3.2)\n",
            "Requirement already satisfied: attrs>=17.3.0 in /usr/local/lib/python3.11/dist-packages (from aiohttp<4.0.0,>=3.8.3->langchain-community) (25.1.0)\n",
            "Requirement already satisfied: frozenlist>=1.1.1 in /usr/local/lib/python3.11/dist-packages (from aiohttp<4.0.0,>=3.8.3->langchain-community) (1.5.0)\n",
            "Requirement already satisfied: multidict<7.0,>=4.5 in /usr/local/lib/python3.11/dist-packages (from aiohttp<4.0.0,>=3.8.3->langchain-community) (6.1.0)\n",
            "Requirement already satisfied: propcache>=0.2.0 in /usr/local/lib/python3.11/dist-packages (from aiohttp<4.0.0,>=3.8.3->langchain-community) (0.2.1)\n",
            "Requirement already satisfied: yarl<2.0,>=1.17.0 in /usr/local/lib/python3.11/dist-packages (from aiohttp<4.0.0,>=3.8.3->langchain-community) (1.18.3)\n",
            "Collecting marshmallow<4.0.0,>=3.18.0 (from dataclasses-json<0.7,>=0.5.7->langchain-community)\n",
            "  Downloading marshmallow-3.26.1-py3-none-any.whl.metadata (7.3 kB)\n",
            "Collecting typing-inspect<1,>=0.4.0 (from dataclasses-json<0.7,>=0.5.7->langchain-community)\n",
            "  Downloading typing_inspect-0.9.0-py3-none-any.whl.metadata (1.5 kB)\n",
            "Collecting langchain-text-splitters<1.0.0,>=0.3.6 (from langchain<1.0.0,>=0.3.18->langchain-community)\n",
            "  Downloading langchain_text_splitters-0.3.6-py3-none-any.whl.metadata (1.9 kB)\n",
            "Requirement already satisfied: pydantic<3.0.0,>=2.7.4 in /usr/local/lib/python3.11/dist-packages (from langchain<1.0.0,>=0.3.18->langchain-community) (2.10.6)\n",
            "Requirement already satisfied: jsonpatch<2.0,>=1.33 in /usr/local/lib/python3.11/dist-packages (from langchain-core<1.0.0,>=0.3.34->langchain-community) (1.33)\n",
            "Requirement already satisfied: packaging<25,>=23.2 in /usr/local/lib/python3.11/dist-packages (from langchain-core<1.0.0,>=0.3.34->langchain-community) (24.2)\n",
            "Requirement already satisfied: typing-extensions>=4.7 in /usr/local/lib/python3.11/dist-packages (from langchain-core<1.0.0,>=0.3.34->langchain-community) (4.12.2)\n",
            "Requirement already satisfied: httpx<1,>=0.23.0 in /usr/local/lib/python3.11/dist-packages (from langsmith<0.4,>=0.1.125->langchain-community) (0.28.1)\n",
            "Requirement already satisfied: orjson<4.0.0,>=3.9.14 in /usr/local/lib/python3.11/dist-packages (from langsmith<0.4,>=0.1.125->langchain-community) (3.10.15)\n",
            "Requirement already satisfied: requests-toolbelt<2.0.0,>=1.0.0 in /usr/local/lib/python3.11/dist-packages (from langsmith<0.4,>=0.1.125->langchain-community) (1.0.0)\n",
            "Requirement already satisfied: zstandard<0.24.0,>=0.23.0 in /usr/local/lib/python3.11/dist-packages (from langsmith<0.4,>=0.1.125->langchain-community) (0.23.0)\n",
            "Requirement already satisfied: python-dotenv>=0.21.0 in /usr/local/lib/python3.11/dist-packages (from pydantic-settings<3.0.0,>=2.4.0->langchain-community) (1.0.1)\n",
            "Requirement already satisfied: charset-normalizer<4,>=2 in /usr/local/lib/python3.11/dist-packages (from requests<3,>=2->langchain-community) (3.4.1)\n",
            "Requirement already satisfied: idna<4,>=2.5 in /usr/local/lib/python3.11/dist-packages (from requests<3,>=2->langchain-community) (3.10)\n",
            "Requirement already satisfied: urllib3<3,>=1.21.1 in /usr/local/lib/python3.11/dist-packages (from requests<3,>=2->langchain-community) (2.3.0)\n",
            "Requirement already satisfied: certifi>=2017.4.17 in /usr/local/lib/python3.11/dist-packages (from requests<3,>=2->langchain-community) (2025.1.31)\n",
            "Requirement already satisfied: greenlet!=0.4.17 in /usr/local/lib/python3.11/dist-packages (from SQLAlchemy<3,>=1.4->langchain-community) (3.1.1)\n",
            "Requirement already satisfied: anyio in /usr/local/lib/python3.11/dist-packages (from httpx<1,>=0.23.0->langsmith<0.4,>=0.1.125->langchain-community) (3.7.1)\n",
            "Requirement already satisfied: httpcore==1.* in /usr/local/lib/python3.11/dist-packages (from httpx<1,>=0.23.0->langsmith<0.4,>=0.1.125->langchain-community) (1.0.7)\n",
            "Requirement already satisfied: h11<0.15,>=0.13 in /usr/local/lib/python3.11/dist-packages (from httpcore==1.*->httpx<1,>=0.23.0->langsmith<0.4,>=0.1.125->langchain-community) (0.14.0)\n",
            "Requirement already satisfied: jsonpointer>=1.9 in /usr/local/lib/python3.11/dist-packages (from jsonpatch<2.0,>=1.33->langchain-core<1.0.0,>=0.3.34->langchain-community) (3.0.0)\n",
            "Requirement already satisfied: annotated-types>=0.6.0 in /usr/local/lib/python3.11/dist-packages (from pydantic<3.0.0,>=2.7.4->langchain<1.0.0,>=0.3.18->langchain-community) (0.7.0)\n",
            "Requirement already satisfied: pydantic-core==2.27.2 in /usr/local/lib/python3.11/dist-packages (from pydantic<3.0.0,>=2.7.4->langchain<1.0.0,>=0.3.18->langchain-community) (2.27.2)\n",
            "Collecting mypy-extensions>=0.3.0 (from typing-inspect<1,>=0.4.0->dataclasses-json<0.7,>=0.5.7->langchain-community)\n",
            "  Downloading mypy_extensions-1.0.0-py3-none-any.whl.metadata (1.1 kB)\n",
            "Requirement already satisfied: sniffio>=1.1 in /usr/local/lib/python3.11/dist-packages (from anyio->httpx<1,>=0.23.0->langsmith<0.4,>=0.1.125->langchain-community) (1.3.1)\n",
            "Downloading langchain_community-0.3.17-py3-none-any.whl (2.5 MB)\n",
            "\u001b[2K   \u001b[90m━━━━━━━━━━━━━━━━━━━━━━━━━━━━━━━━━━━━━━━━\u001b[0m \u001b[32m2.5/2.5 MB\u001b[0m \u001b[31m65.1 MB/s\u001b[0m eta \u001b[36m0:00:00\u001b[0m\n",
            "\u001b[?25hDownloading dataclasses_json-0.6.7-py3-none-any.whl (28 kB)\n",
            "Downloading httpx_sse-0.4.0-py3-none-any.whl (7.8 kB)\n",
            "Downloading langchain-0.3.18-py3-none-any.whl (1.0 MB)\n",
            "\u001b[2K   \u001b[90m━━━━━━━━━━━━━━━━━━━━━━━━━━━━━━━━━━━━━━━━\u001b[0m \u001b[32m1.0/1.0 MB\u001b[0m \u001b[31m47.4 MB/s\u001b[0m eta \u001b[36m0:00:00\u001b[0m\n",
            "\u001b[?25hDownloading pydantic_settings-2.7.1-py3-none-any.whl (29 kB)\n",
            "Downloading langchain_text_splitters-0.3.6-py3-none-any.whl (31 kB)\n",
            "Downloading marshmallow-3.26.1-py3-none-any.whl (50 kB)\n",
            "\u001b[2K   \u001b[90m━━━━━━━━━━━━━━━━━━━━━━━━━━━━━━━━━━━━━━━━\u001b[0m \u001b[32m50.9/50.9 kB\u001b[0m \u001b[31m4.2 MB/s\u001b[0m eta \u001b[36m0:00:00\u001b[0m\n",
            "\u001b[?25hDownloading typing_inspect-0.9.0-py3-none-any.whl (8.8 kB)\n",
            "Downloading mypy_extensions-1.0.0-py3-none-any.whl (4.7 kB)\n",
            "Installing collected packages: mypy-extensions, marshmallow, httpx-sse, typing-inspect, pydantic-settings, dataclasses-json, langchain-text-splitters, langchain, langchain-community\n",
            "  Attempting uninstall: langchain-text-splitters\n",
            "    Found existing installation: langchain-text-splitters 0.3.5\n",
            "    Uninstalling langchain-text-splitters-0.3.5:\n",
            "      Successfully uninstalled langchain-text-splitters-0.3.5\n",
            "  Attempting uninstall: langchain\n",
            "    Found existing installation: langchain 0.3.17\n",
            "    Uninstalling langchain-0.3.17:\n",
            "      Successfully uninstalled langchain-0.3.17\n",
            "Successfully installed dataclasses-json-0.6.7 httpx-sse-0.4.0 langchain-0.3.18 langchain-community-0.3.17 langchain-text-splitters-0.3.6 marshmallow-3.26.1 mypy-extensions-1.0.0 pydantic-settings-2.7.1 typing-inspect-0.9.0\n",
            "Collecting faiss-cpu\n",
            "  Downloading faiss_cpu-1.10.0-cp311-cp311-manylinux_2_28_x86_64.whl.metadata (4.4 kB)\n",
            "Requirement already satisfied: numpy<3.0,>=1.25.0 in /usr/local/lib/python3.11/dist-packages (from faiss-cpu) (1.26.4)\n",
            "Requirement already satisfied: packaging in /usr/local/lib/python3.11/dist-packages (from faiss-cpu) (24.2)\n",
            "Downloading faiss_cpu-1.10.0-cp311-cp311-manylinux_2_28_x86_64.whl (30.7 MB)\n",
            "\u001b[2K   \u001b[90m━━━━━━━━━━━━━━━━━━━━━━━━━━━━━━━━━━━━━━━━\u001b[0m \u001b[32m30.7/30.7 MB\u001b[0m \u001b[31m31.8 MB/s\u001b[0m eta \u001b[36m0:00:00\u001b[0m\n",
            "\u001b[?25hInstalling collected packages: faiss-cpu\n",
            "Successfully installed faiss-cpu-1.10.0\n"
          ]
        }
      ],
      "source": [
        "!pip install langchain langchain-chroma langchain-openai\n",
        "!pip install beautifulsoup4\n",
        "!pip install langchain-community\n",
        "!pip install faiss-cpu"
      ]
    },
    {
      "cell_type": "code",
      "source": [
        "import getpass\n",
        "import os\n",
        "\n",
        "os.environ[\"LANGCHAIN_TRACING_V2\"] = \"true\"\n",
        "os.environ[\"OPENAI_API_KEY\"] = getpass.getpass()"
      ],
      "metadata": {
        "id": "uIdQk4LZBx6t",
        "colab": {
          "base_uri": "https://localhost:8080/"
        },
        "outputId": "e1f4499c-313f-4068-d1f8-28bd38c67d8a"
      },
      "execution_count": null,
      "outputs": [
        {
          "name": "stdout",
          "output_type": "stream",
          "text": [
            "··········\n"
          ]
        }
      ]
    },
    {
      "cell_type": "code",
      "source": [
        "import warnings\n",
        "warnings.filterwarnings(\"ignore\")"
      ],
      "metadata": {
        "id": "pilOtfFm0qvU"
      },
      "execution_count": null,
      "outputs": []
    },
    {
      "cell_type": "markdown",
      "source": [
        "# Simple LLM Call"
      ],
      "metadata": {
        "id": "P00YiPthCoO4"
      }
    },
    {
      "cell_type": "code",
      "source": [
        "from langchain_openai import ChatOpenAI\n",
        "\n",
        "llm = ChatOpenAI(api_key=os.environ[\"OPENAI_API_KEY\"])"
      ],
      "metadata": {
        "id": "DmvHHBCDCJ4f"
      },
      "execution_count": null,
      "outputs": []
    },
    {
      "cell_type": "code",
      "source": [
        "answer = llm.invoke(\"how can langsmith help with testing?\")"
      ],
      "metadata": {
        "colab": {
          "base_uri": "https://localhost:8080/"
        },
        "collapsed": true,
        "id": "DH1HpyEGCSj7",
        "outputId": "b8d27965-5083-43b2-f5d9-d153b93ee3f6"
      },
      "execution_count": null,
      "outputs": [
        {
          "output_type": "stream",
          "name": "stderr",
          "text": [
            "WARNING:langsmith.client:Failed to send compressed multipart ingest: langsmith.utils.LangSmithAuthError: Authentication failed for https://api.smith.langchain.com/runs/multipart. HTTPError('401 Client Error: Unauthorized for url: https://api.smith.langchain.com/runs/multipart', '{\"detail\":\"Invalid token\"}')\n"
          ]
        }
      ]
    },
    {
      "cell_type": "code",
      "source": [
        "print(answer)"
      ],
      "metadata": {
        "colab": {
          "base_uri": "https://localhost:8080/"
        },
        "id": "eYLbVxZICefk",
        "outputId": "00bac050-5dc6-4ab4-9f32-d6deefcfdb6d"
      },
      "execution_count": null,
      "outputs": [
        {
          "output_type": "stream",
          "name": "stdout",
          "text": [
            "content='Langsmith can help with testing in several ways:\\n\\n1. Automated Testing: Langsmith can be used to write automated test scripts for your software application. These scripts can help run tests quickly and accurately, saving time and effort compared to manual testing.\\n\\n2. Language Testing: Langsmith can be used to test different language features and functionality, ensuring that the software application behaves as expected in different language settings.\\n\\n3. Performance Testing: Langsmith can be utilized to perform performance testing on your application, helping to identify bottlenecks and areas for optimization.\\n\\n4. Compatibility Testing: Langsmith can assist in testing the compatibility of your application with different operating systems, browsers, and devices.\\n\\n5. Regression Testing: Langsmith can be used to create and execute regression tests to ensure that new changes do not negatively impact existing features.\\n\\nOverall, Langsmith can be a valuable tool in automating various testing processes and ensuring the quality and stability of your software application.' additional_kwargs={'refusal': None} response_metadata={'token_usage': {'completion_tokens': 190, 'prompt_tokens': 15, 'total_tokens': 205, 'completion_tokens_details': {'accepted_prediction_tokens': 0, 'audio_tokens': 0, 'reasoning_tokens': 0, 'rejected_prediction_tokens': 0}, 'prompt_tokens_details': {'audio_tokens': 0, 'cached_tokens': 0}}, 'model_name': 'gpt-3.5-turbo-0125', 'system_fingerprint': None, 'finish_reason': 'stop', 'logprobs': None} id='run-ea4721f1-7ee1-44b1-a0d2-3a195d543556-0' usage_metadata={'input_tokens': 15, 'output_tokens': 190, 'total_tokens': 205, 'input_token_details': {'audio': 0, 'cache_read': 0}, 'output_token_details': {'audio': 0, 'reasoning': 0}}\n"
          ]
        }
      ]
    },
    {
      "cell_type": "markdown",
      "source": [
        "# That's not very interesting ... and there is no chaining anyways"
      ],
      "metadata": {
        "id": "DnNRRZrnCqDx"
      }
    },
    {
      "cell_type": "markdown",
      "source": [
        "# Let's Do Some Chaining"
      ],
      "metadata": {
        "id": "Bw74zandCtzm"
      }
    },
    {
      "cell_type": "markdown",
      "source": [
        "## Templating"
      ],
      "metadata": {
        "id": "zeAs-D8-C1Qb"
      }
    },
    {
      "cell_type": "code",
      "source": [
        "from langchain_core.prompts import ChatPromptTemplate\n",
        "\n",
        "template = ChatPromptTemplate.from_messages([\n",
        "    (\"system\", \"You are a helpful AI bot. Your name is {name}.\"),\n",
        "    (\"human\", \"Hello, how are you doing?\"),\n",
        "    (\"ai\", \"I'm doing well, thanks!\"),\n",
        "    (\"human\", \"{user_input}\"),\n",
        "])\n",
        "\n",
        "prompt_value = template.invoke(\n",
        "    {\n",
        "        \"name\": \"Bob\",\n",
        "        \"user_input\": \"What is your name?\"\n",
        "    }\n",
        ")\n",
        "# Output:\n",
        "# ChatPromptValue(\n",
        "#    messages=[\n",
        "#        SystemMessage(content='You are a helpful AI bot. Your name is Bob.'),\n",
        "#        HumanMessage(content='Hello, how are you doing?'),\n",
        "#        AIMessage(content=\"I'm doing well, thanks!\"),\n",
        "#        HumanMessage(content='What is your name?')\n",
        "#    ]\n",
        "#)"
      ],
      "metadata": {
        "collapsed": true,
        "id": "sx3EH62vb9JU"
      },
      "execution_count": null,
      "outputs": []
    },
    {
      "cell_type": "code",
      "source": [
        "for msg in prompt_value.messages:\n",
        "  print(type(msg).__name__, \":\", msg.content)"
      ],
      "metadata": {
        "id": "mdAKONbfcIUB",
        "colab": {
          "base_uri": "https://localhost:8080/"
        },
        "outputId": "7c332416-a8a7-47db-cad2-2fb21d3ee43f"
      },
      "execution_count": null,
      "outputs": [
        {
          "output_type": "stream",
          "name": "stdout",
          "text": [
            "SystemMessage : You are a helpful AI bot. Your name is Bob.\n",
            "HumanMessage : Hello, how are you doing?\n",
            "AIMessage : I'm doing well, thanks!\n",
            "HumanMessage : What is your name?\n"
          ]
        }
      ]
    },
    {
      "cell_type": "code",
      "source": [
        "from langchain_core.prompts import ChatPromptTemplate\n",
        "prompt = ChatPromptTemplate.from_messages([\n",
        "    (\"system\", \"You are a world class technical documentation writer.\"), # system instructions\n",
        "    (\"user\", \"{input}\")\n",
        "])"
      ],
      "metadata": {
        "id": "iZg13hhlC4GU"
      },
      "execution_count": null,
      "outputs": []
    },
    {
      "cell_type": "code",
      "source": [
        "for msg in prompt.messages:\n",
        "  print(type(msg).__name__, \":\", msg)"
      ],
      "metadata": {
        "id": "QMXV7nTUDGws",
        "colab": {
          "base_uri": "https://localhost:8080/"
        },
        "outputId": "5e7c9114-fa0c-4048-e3d8-4aadd607b59d"
      },
      "execution_count": null,
      "outputs": [
        {
          "output_type": "stream",
          "name": "stdout",
          "text": [
            "SystemMessagePromptTemplate : prompt=PromptTemplate(input_variables=[], input_types={}, partial_variables={}, template='You are a world class technical documentation writer.') additional_kwargs={}\n",
            "HumanMessagePromptTemplate : prompt=PromptTemplate(input_variables=['input'], input_types={}, partial_variables={}, template='{input}') additional_kwargs={}\n"
          ]
        }
      ]
    },
    {
      "cell_type": "markdown",
      "source": [
        "## Chaining"
      ],
      "metadata": {
        "id": "DTgC9sHCDLho"
      }
    },
    {
      "cell_type": "code",
      "source": [
        "chain = prompt | llm\n",
        "## pass the prompt to the LLM"
      ],
      "metadata": {
        "id": "GIUx0q9lDBUI"
      },
      "execution_count": null,
      "outputs": []
    },
    {
      "cell_type": "code",
      "source": [
        "print(chain.first)"
      ],
      "metadata": {
        "id": "VHye3USTDFAp",
        "colab": {
          "base_uri": "https://localhost:8080/"
        },
        "outputId": "11b9dab4-455a-4d3c-902a-150df32ce253"
      },
      "execution_count": null,
      "outputs": [
        {
          "output_type": "stream",
          "name": "stdout",
          "text": [
            "input_variables=['input'] input_types={} partial_variables={} messages=[SystemMessagePromptTemplate(prompt=PromptTemplate(input_variables=[], input_types={}, partial_variables={}, template='You are a world class technical documentation writer.'), additional_kwargs={}), HumanMessagePromptTemplate(prompt=PromptTemplate(input_variables=['input'], input_types={}, partial_variables={}, template='{input}'), additional_kwargs={})]\n"
          ]
        }
      ]
    },
    {
      "cell_type": "code",
      "source": [
        "chain_result = chain.invoke({\"input\": \"how can langsmith help with testing?\"})"
      ],
      "metadata": {
        "collapsed": true,
        "id": "tFXsYndvDP2m",
        "colab": {
          "base_uri": "https://localhost:8080/"
        },
        "outputId": "9503e6a2-b694-4989-f47d-6ab2ec782a25"
      },
      "execution_count": null,
      "outputs": [
        {
          "output_type": "stream",
          "name": "stderr",
          "text": [
            "WARNING:langsmith.client:Failed to send compressed multipart ingest: langsmith.utils.LangSmithAuthError: Authentication failed for https://api.smith.langchain.com/runs/multipart. HTTPError('401 Client Error: Unauthorized for url: https://api.smith.langchain.com/runs/multipart', '{\"detail\":\"Invalid token\"}')\n"
          ]
        }
      ]
    },
    {
      "cell_type": "markdown",
      "source": [
        "\"system\": \"You are a world class technical documentation writer.\"\n",
        "\n",
        "\"user\", \"how can langsmith help with testing?\""
      ],
      "metadata": {
        "id": "GpA2sJpm093e"
      }
    },
    {
      "cell_type": "code",
      "source": [
        "print(chain_result.content)"
      ],
      "metadata": {
        "id": "VUU5LibFDT55",
        "colab": {
          "base_uri": "https://localhost:8080/"
        },
        "outputId": "79712da9-f69c-448f-cea6-bd67faf29f65"
      },
      "execution_count": null,
      "outputs": [
        {
          "output_type": "stream",
          "name": "stdout",
          "text": [
            "Langsmith is a powerful tool that can greatly assist with testing by providing automated language detection capabilities. By using Langsmith in your testing processes, you can quickly identify the language of text inputs or outputs, which can be crucial for internationalization and localization testing.\n",
            "\n",
            "Here are some ways Langsmith can help with testing:\n",
            "\n",
            "1. **Language Detection**: Langsmith can automatically detect the language of text strings, making it easier to verify that the correct language is being used in your application or website.\n",
            "\n",
            "2. **Internationalization Testing**: Langsmith can help ensure that your application is properly internationalized by detecting the language of user inputs or content displayed to users.\n",
            "\n",
            "3. **Localization Testing**: By detecting the language of text strings, Langsmith can assist in verifying the accuracy of language translations and localized content.\n",
            "\n",
            "4. **Content Testing**: Langsmith can be used to check that content is correctly identified and processed based on its language, helping to prevent errors that may arise from language-specific requirements.\n",
            "\n",
            "Incorporating Langsmith into your testing processes can improve the efficiency and accuracy of your tests, especially when dealing with multilingual applications or content.\n"
          ]
        }
      ]
    },
    {
      "cell_type": "code",
      "source": [
        "print(chain_result.response_metadata)"
      ],
      "metadata": {
        "id": "awgcpboCdu2q",
        "colab": {
          "base_uri": "https://localhost:8080/"
        },
        "outputId": "016421e6-2bb8-4217-bc5f-7ee04073f303"
      },
      "execution_count": null,
      "outputs": [
        {
          "output_type": "stream",
          "name": "stdout",
          "text": [
            "{'token_usage': {'completion_tokens': 226, 'prompt_tokens': 28, 'total_tokens': 254, 'completion_tokens_details': {'accepted_prediction_tokens': 0, 'audio_tokens': 0, 'reasoning_tokens': 0, 'rejected_prediction_tokens': 0}, 'prompt_tokens_details': {'audio_tokens': 0, 'cached_tokens': 0}}, 'model_name': 'gpt-3.5-turbo-0125', 'system_fingerprint': None, 'finish_reason': 'stop', 'logprobs': None}\n"
          ]
        }
      ]
    },
    {
      "cell_type": "markdown",
      "source": [
        "# More Chaining"
      ],
      "metadata": {
        "id": "ouD3Ln6uDbks"
      }
    },
    {
      "cell_type": "code",
      "source": [
        "from langchain_core.output_parsers import StrOutputParser\n",
        "\n",
        "output_parser = StrOutputParser()"
      ],
      "metadata": {
        "id": "HqZ1ud0dDWM3"
      },
      "execution_count": null,
      "outputs": []
    },
    {
      "cell_type": "code",
      "source": [
        "chain = prompt | llm | output_parser"
      ],
      "metadata": {
        "id": "jkbmUs3pDdU9"
      },
      "execution_count": null,
      "outputs": []
    },
    {
      "cell_type": "code",
      "source": [
        "chain_result = chain.invoke({\"input\": \"how can langsmith help with testing?\"})"
      ],
      "metadata": {
        "collapsed": true,
        "id": "lh_F1FizDgPa",
        "colab": {
          "base_uri": "https://localhost:8080/"
        },
        "outputId": "31863981-a0ef-4b08-a88a-a74b3f57ca64"
      },
      "execution_count": null,
      "outputs": [
        {
          "output_type": "stream",
          "name": "stderr",
          "text": [
            "WARNING:langsmith.client:Failed to send compressed multipart ingest: langsmith.utils.LangSmithAuthError: Authentication failed for https://api.smith.langchain.com/runs/multipart. HTTPError('401 Client Error: Unauthorized for url: https://api.smith.langchain.com/runs/multipart', '{\"detail\":\"Invalid token\"}')\n"
          ]
        }
      ]
    },
    {
      "cell_type": "code",
      "source": [
        "print(chain_result)"
      ],
      "metadata": {
        "id": "iAkrcwODDkPJ",
        "colab": {
          "base_uri": "https://localhost:8080/"
        },
        "outputId": "a6f20fb2-ca4d-4e2b-ae24-404b3b823bcf"
      },
      "execution_count": null,
      "outputs": [
        {
          "output_type": "stream",
          "name": "stdout",
          "text": [
            "Langsmith can help with testing by providing a platform for automated testing of language-related features in software applications. It offers a range of tools and utilities designed to assist developers and testers in verifying the correctness and functionality of language-specific components such as syntax highlighting, auto-completion, formatting, internationalization, and localization.\n",
            "\n",
            "Here are some ways in which Langsmith can be useful for testing:\n",
            "\n",
            "1. Automated testing: Langsmith enables the automation of tests for language-related features, allowing for faster and more efficient validation of code correctness and functionality. This can help in identifying bugs and regressions early in the development process.\n",
            "\n",
            "2. Language support validation: Langsmith can be used to validate the language support of an application by checking if syntax highlighting, auto-completion, and other language-specific features work correctly and consistently across different platforms and environments.\n",
            "\n",
            "3. Internationalization and localization testing: Langsmith provides utilities for testing the internationalization and localization of software applications, ensuring that they can handle different languages, character sets, and cultural conventions effectively.\n",
            "\n",
            "4. Performance testing: Langsmith includes tools for performance testing of language-related features, helping developers and testers assess the impact of these components on the overall performance of an application.\n",
            "\n",
            "Overall, Langsmith can be a valuable tool for testing language-related aspects of software applications, enabling developers and testers to ensure the quality and reliability of their code.\n"
          ]
        }
      ]
    },
    {
      "cell_type": "markdown",
      "source": [
        "# Where are the retrieval from <u>**R**</u>AG"
      ],
      "metadata": {
        "id": "T_f5Dd3nFr86"
      }
    },
    {
      "cell_type": "code",
      "source": [
        "from langchain_community.document_loaders import WebBaseLoader\n",
        "loader = WebBaseLoader(\"https://docs.smith.langchain.com/user_guide\")\n",
        "\n",
        "docs = loader.load()"
      ],
      "metadata": {
        "id": "rnaYZlqzGFU_",
        "collapsed": true
      },
      "execution_count": null,
      "outputs": []
    },
    {
      "cell_type": "code",
      "source": [
        "from langchain_openai import OpenAIEmbeddings\n",
        "\n",
        "embeddings = OpenAIEmbeddings()"
      ],
      "metadata": {
        "id": "KYOb56WDGYuG"
      },
      "execution_count": null,
      "outputs": []
    },
    {
      "cell_type": "code",
      "source": [
        "from langchain_community.vectorstores import FAISS\n",
        "from langchain_text_splitters import RecursiveCharacterTextSplitter\n",
        "\n",
        "\n",
        "text_splitter = RecursiveCharacterTextSplitter()\n",
        "documents = text_splitter.split_documents(docs)\n",
        "vector = FAISS.from_documents(documents, embeddings)"
      ],
      "metadata": {
        "id": "PCePZEL0Gj0G"
      },
      "execution_count": null,
      "outputs": []
    },
    {
      "cell_type": "code",
      "source": [
        "from langchain.chains.combine_documents import create_stuff_documents_chain\n",
        "# create_stuff_documents_chain :\n",
        "#  Create a chain for passing a list of Documents to a model.\n",
        "\n",
        "prompt = ChatPromptTemplate.from_template(\"\"\"Answer the following question based only on the provided context:\n",
        "\n",
        "<context>\n",
        "{context}\n",
        "</context>\n",
        "\n",
        "Question: {input}\"\"\", output_parser = output_parser)\n",
        "\n",
        "document_chain = create_stuff_documents_chain(llm, prompt)\n",
        "# document_chain = prompt | llm"
      ],
      "metadata": {
        "id": "6sb63NBGGwuy"
      },
      "execution_count": null,
      "outputs": []
    },
    {
      "cell_type": "markdown",
      "source": [
        "![Untitled drawing.jpg](data:image/jpeg;base64,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)"
      ],
      "metadata": {
        "id": "R4M3us56E56x"
      }
    },
    {
      "cell_type": "markdown",
      "source": [
        "![Untitled drawing (1).jpg](data:image/jpeg;base64,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)"
      ],
      "metadata": {
        "id": "9htnFHfJE8uP"
      }
    },
    {
      "cell_type": "markdown",
      "source": [
        "![Rag-LangChain.jpg](data:image/jpeg;base64,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)"
      ],
      "metadata": {
        "id": "3gmYzbmhgREJ"
      }
    },
    {
      "cell_type": "code",
      "source": [
        "from langchain.chains import create_retrieval_chain\n",
        "\n",
        "retriever = vector.as_retriever()\n",
        "retrieval_chain = create_retrieval_chain(retriever, document_chain)"
      ],
      "metadata": {
        "id": "TPdi0y7ZG29G"
      },
      "execution_count": null,
      "outputs": []
    },
    {
      "cell_type": "code",
      "source": [
        "response = retrieval_chain.invoke({\"input\": \"how can langsmith help with testing?\"})"
      ],
      "metadata": {
        "collapsed": true,
        "id": "fchYCGjKHDKu",
        "colab": {
          "base_uri": "https://localhost:8080/"
        },
        "outputId": "6442a88a-0f89-4ab9-fa17-dc0ab271a938"
      },
      "execution_count": null,
      "outputs": [
        {
          "output_type": "stream",
          "name": "stderr",
          "text": [
            "WARNING:langsmith.client:Failed to send compressed multipart ingest: langsmith.utils.LangSmithAuthError: Authentication failed for https://api.smith.langchain.com/runs/multipart. HTTPError('401 Client Error: Unauthorized for url: https://api.smith.langchain.com/runs/multipart', '{\"detail\":\"Invalid token\"}')\n"
          ]
        }
      ]
    },
    {
      "cell_type": "code",
      "source": [
        "print(response[\"answer\"])\n",
        "\n",
        "# LangSmith offers several features that can help with testing:..."
      ],
      "metadata": {
        "colab": {
          "base_uri": "https://localhost:8080/"
        },
        "id": "DmP7v_s7HHmv",
        "outputId": "1a7cc349-a6e0-48a0-ceeb-1a46232c91ec"
      },
      "execution_count": null,
      "outputs": [
        {
          "output_type": "stream",
          "name": "stdout",
          "text": [
            "LangSmith provides various features to assist with testing LLM applications. These include:\n",
            "- Prototyping: allowing quick experimentation between prompts, model types, retrieval strategy, and other parameters.\n",
            "- Debugging: providing clear visibility and debugging information at each step of an LLM sequence to identify and root-cause issues.\n",
            "- Initial Test Set: enabling developers to create datasets of inputs and reference outputs to run tests on their LLM applications.\n",
            "- Comparison View: facilitating the comparison of results for different configurations on the same datapoints to track and diagnose regressions in test scores across multiple revisions.\n",
            "- Playground: offering a playground environment for rapid iteration and experimentation with different prompts and models.\n",
            "- Beta Testing: collecting more data on how LLM applications perform in real-world scenarios to track regressions/improvements and develop automatic evaluations.\n",
            "- Capturing Feedback: allowing developers to gather human feedback on the responses produced by the application.\n",
            "- Annotating Traces: supporting sending runs to annotation queues for inspection and annotation.\n",
            "- Adding Runs to a Dataset: enabling the addition of runs as examples to datasets to refine and improve application performance.\n",
            "- Monitoring and A/B Testing: providing monitoring charts to track key metrics over time and compare different versions of applications.\n",
            "- Automations: performing actions on traces in near real-time, such as scoring traces, sending them to annotation queues, or sending them to datasets.\n",
            "- Threads: grouping traces from a single conversation together to track the performance of the application across multiple turns.\n"
          ]
        }
      ]
    },
    {
      "cell_type": "code",
      "source": [
        "response = retrieval_chain.invoke({\"input\": \"how can use it?\"})\n",
        "print(response[\"answer\"])"
      ],
      "metadata": {
        "colab": {
          "base_uri": "https://localhost:8080/"
        },
        "id": "mYwphfNwYefc",
        "outputId": "5115311f-9aa4-4253-be55-3daf8804b947"
      },
      "execution_count": null,
      "outputs": [
        {
          "output_type": "stream",
          "name": "stderr",
          "text": [
            "WARNING:langsmith.client:Failed to send compressed multipart ingest: langsmith.utils.LangSmithAuthError: Authentication failed for https://api.smith.langchain.com/runs/multipart. HTTPError('401 Client Error: Unauthorized for url: https://api.smith.langchain.com/runs/multipart', '{\"detail\":\"Invalid token\"}')\n"
          ]
        },
        {
          "output_type": "stream",
          "name": "stdout",
          "text": [
            "You can use LangSmith for beta testing, capturing feedback, annotating traces, adding runs to a dataset, monitoring and A/B testing, automations, prototyping, debugging, creating initial test sets, comparison view, and using the playground environment for rapid iteration and experimentation.\n"
          ]
        }
      ]
    }
  ]
}